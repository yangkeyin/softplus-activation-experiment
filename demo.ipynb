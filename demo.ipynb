{
 "cells": [
  {
   "cell_type": "code",
   "execution_count": 13,
   "id": "8c9e379b",
   "metadata": {},
   "outputs": [],
   "source": [
    "import numpy as np"
   ]
  },
  {
   "cell_type": "code",
   "execution_count": 1,
   "id": "4d2f7082",
   "metadata": {},
   "outputs": [],
   "source": [
    "mean_pred = []"
   ]
  },
  {
   "cell_type": "code",
   "execution_count": 2,
   "id": "e72e35de",
   "metadata": {},
   "outputs": [],
   "source": [
    "y_pred = [1,2,3]"
   ]
  },
  {
   "cell_type": "code",
   "execution_count": 8,
   "id": "710f40d3",
   "metadata": {},
   "outputs": [],
   "source": [
    "        # 初始化测试数据\n",
    "        stds = [1, 2, 3, 4, 5]\n",
    "        preds = [[1, 2, 3], [4, 5, 6], [7, 8, 9]]"
   ]
  },
  {
   "cell_type": "code",
   "execution_count": 10,
   "id": "76c1c925",
   "metadata": {},
   "outputs": [],
   "source": [
    "mean_pred = None\n",
    "mean_std = None"
   ]
  },
  {
   "cell_type": "code",
   "execution_count": 14,
   "id": "d57e5c15",
   "metadata": {},
   "outputs": [],
   "source": [
    "    # 将std list中的所有值求平均\n",
    "mean_pred = np.mean(stds)\n",
    "\n",
    "# 将preds二维list沿着行求平均\n",
    "mean_std = np.mean(preds, axis=0)"
   ]
  },
  {
   "cell_type": "code",
   "execution_count": 20,
   "id": "12d093b2",
   "metadata": {},
   "outputs": [
    {
     "name": "stdout",
     "output_type": "stream",
     "text": [
      "[1 2 3]\n"
     ]
    }
   ],
   "source": [
    "\n",
    "\n",
    "# 假设 y_pred 是一个 TensorFlow 的张量\n",
    "# 创建一个示例张量\n",
    "y_pred = [1, 2, 3]\n",
    "\n",
    "# 将张量转换为 NumPy 数组并展平\n",
    "flattened_array = np.array(y_pred)\n",
    "print(flattened_array)"
   ]
  },
  {
   "cell_type": "code",
   "execution_count": null,
   "id": "9bac0317",
   "metadata": {},
   "outputs": [],
   "source": [
    "import matplotlib.pyplot as plt\n",
    "\n",
    "# 假设results是一个预先定义好的数据结构，包含了epoch和n相关的数据\n",
    "# 这里results[epoch][n]应该是一个字典，其键是beta值，值是另一个字典，包含'mean_std'键\n",
    "\n",
    "# 绘制折线图\n",
    "plt.plot(results[epoch][n].keys(), [results[epoch][n][beta]['mean_std'] for beta in results[epoch][n].keys()])\n",
    "\n",
    "# 添加图表标题和轴标签\n",
    "plt.title(f'Epoch {epoch}, n = {n} - Mean Std vs Beta')\n",
    "plt.xlabel('Beta')\n",
    "plt.ylabel('Mean Std')\n",
    "\n",
    "# 显示图形\n",
    "plt.show()"
   ]
  },
  {
   "cell_type": "code",
   "execution_count": 1,
   "id": "20345bfb",
   "metadata": {},
   "outputs": [
    {
     "name": "stdout",
     "output_type": "stream",
     "text": [
      "[1.0, 2.0]\n"
     ]
    }
   ],
   "source": [
    "# 假设results是一个已经存在的嵌套字典结构\n",
    "\n",
    "# 这里只是示例数据，实际使用中results会有真实数据\n",
    "results = {\n",
    "    0: {\n",
    "        0: {\n",
    "            'beta1': {'mean_std': 1.0},\n",
    "            'beta2': {'mean_std': 2.0}\n",
    "        }\n",
    "    }\n",
    "}\n",
    "\n",
    "epoch = 0\n",
    "n = 0\n",
    "\n",
    "# 提取mean_std值\n",
    "mean_std_values = [results[epoch][n][beta]['mean_std'] for beta in results[epoch][n].keys()]\n",
    "print(mean_std_values)"
   ]
  }
 ],
 "metadata": {
  "kernelspec": {
   "display_name": "base",
   "language": "python",
   "name": "python3"
  },
  "language_info": {
   "codemirror_mode": {
    "name": "ipython",
    "version": 3
   },
   "file_extension": ".py",
   "mimetype": "text/x-python",
   "name": "python",
   "nbconvert_exporter": "python",
   "pygments_lexer": "ipython3",
   "version": "3.12.3"
  }
 },
 "nbformat": 4,
 "nbformat_minor": 5
}
